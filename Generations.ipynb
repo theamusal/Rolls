{
 "cells": [
  {
   "cell_type": "markdown",
   "metadata": {},
   "source": [
    "### CFFI test\n",
    "This test uses a C++ dll (normaldist.cpp) to generate numbers and offer other functionality.\n",
    "\n",
    "To compile it to a dll the command is:\n",
    "\n",
    "    g++ -shared -o normaldist.dll normaldist.cpp\n",
    "\n",
    "NormDist.py is the wrapper for this dll and uses CFFI to access the dll and its functions.\n",
    "\n",
    "This Jupyter Notebook imports the wrapper class and tests the funtions."
   ]
  },
  {
   "cell_type": "code",
   "execution_count": 1,
   "metadata": {},
   "outputs": [],
   "source": [
    "%load_ext autoreload\n",
    "%autoreload 2"
   ]
  },
  {
   "cell_type": "markdown",
   "metadata": {},
   "source": [
    "#### Import the wrapped C++ module\n",
    "Import is the same as any other module. You can also use 'from NormDist import' to import individual functions."
   ]
  },
  {
   "cell_type": "code",
   "execution_count": 2,
   "metadata": {},
   "outputs": [],
   "source": [
    "import NormDist as nd"
   ]
  },
  {
   "cell_type": "markdown",
   "metadata": {},
   "source": [
    "#### Set and Read\n",
    "SetDice(dice sides, number of rolls, what to add to them (optional))"
   ]
  },
  {
   "cell_type": "code",
   "execution_count": 11,
   "metadata": {},
   "outputs": [
    {
     "name": "stdout",
     "output_type": "stream",
     "text": [
      "Dice: 6, Rolls: 20, Plus: 0, Mean: 70.000000, stddev: 7.637626, min: 20, max: 120\n"
     ]
    }
   ],
   "source": [
    "nd.SetDice(6, 20)\n",
    "print(nd.Stats())"
   ]
  },
  {
   "cell_type": "markdown",
   "metadata": {},
   "source": [
    "#### Quick test.\n",
    "Get 6 rolls"
   ]
  },
  {
   "cell_type": "code",
   "execution_count": 8,
   "metadata": {},
   "outputs": [
    {
     "data": {
      "text/plain": [
       "[35, 34, 39, 32, 42, 36]"
      ]
     },
     "execution_count": 8,
     "metadata": {},
     "output_type": "execute_result"
    }
   ],
   "source": [
    "nd.GetRolls(6)"
   ]
  },
  {
   "cell_type": "markdown",
   "metadata": {},
   "source": [
    "#### Write test\n",
    "Longer test writing 10,000,000 rolls to file"
   ]
  },
  {
   "cell_type": "code",
   "execution_count": 12,
   "metadata": {},
   "outputs": [],
   "source": [
    "nd.WriteRolls(\"Results20d6.txt\", 10000000)"
   ]
  },
  {
   "cell_type": "markdown",
   "metadata": {},
   "source": [
    "#### Application test\n",
    "Generate stats like used on an RPG character sheet"
   ]
  },
  {
   "cell_type": "code",
   "execution_count": 6,
   "metadata": {},
   "outputs": [
    {
     "name": "stdout",
     "output_type": "stream",
     "text": [
      "SUM: 81\n",
      "\n",
      "STR: 10\n",
      "DEX: 9\n",
      "CON: 17\n",
      "WIS: 16\n",
      "INT: 16\n",
      "CHA: 13\n"
     ]
    }
   ],
   "source": [
    "nd.SetDice(6, 2, 6)\n",
    "s = nd.GetRolls(6)\n",
    "while (sum(s) < 80):\n",
    "    s = nd.GetRolls(6)\n",
    "    \n",
    "print(f\"SUM: {sum(s)}\\n\")\n",
    "print(f\"STR: {s[0]}\")\n",
    "print(f\"DEX: {s[1]}\")\n",
    "print(f\"CON: {s[2]}\")\n",
    "print(f\"WIS: {s[3]}\")\n",
    "print(f\"INT: {s[4]}\")\n",
    "print(f\"CHA: {s[5]}\")"
   ]
  }
 ],
 "metadata": {
  "kernelspec": {
   "display_name": "Python 3",
   "language": "python",
   "name": "python3"
  },
  "language_info": {
   "codemirror_mode": {
    "name": "ipython",
    "version": 3
   },
   "file_extension": ".py",
   "mimetype": "text/x-python",
   "name": "python",
   "nbconvert_exporter": "python",
   "pygments_lexer": "ipython3",
   "version": "3.11.7"
  }
 },
 "nbformat": 4,
 "nbformat_minor": 2
}
